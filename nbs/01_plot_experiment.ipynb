{
 "cells": [
  {
   "cell_type": "markdown",
   "metadata": {},
   "source": [
    "# plot_experiment\n",
    "\n",
    "> Given an experiment, provide all plots for examining one variable at a time."
   ]
  },
  {
   "cell_type": "code",
   "execution_count": null,
   "metadata": {},
   "outputs": [],
   "source": [
    "#| default_exp plot_experiment"
   ]
  },
  {
   "cell_type": "code",
   "execution_count": null,
   "metadata": {},
   "outputs": [],
   "source": [
    "#| hide\n",
    "from nbdev.showdoc import *\n",
    "from fastcore.all import *\n",
    "from experiment_to_plot_framework.plot import *\n",
    "import os"
   ]
  },
  {
   "cell_type": "code",
   "execution_count": null,
   "metadata": {},
   "outputs": [],
   "source": [
    "#| export\n",
    "from potentiostat_data_parser.chi import parse_chi_file\n",
    "from potentiostat_data_parser.palmsens import parse_palmsens_file\n",
    "import warnings # to warn when experiment contains both CHI and Palmsens files\n",
    "import matplotlib._color_data as mcd\n",
    "import numpy as np"
   ]
  },
  {
   "cell_type": "markdown",
   "metadata": {},
   "source": [
    "We can motivate this library by generating plots for a simple experiment, various levels of IAA concentration. This is a CHI dataset."
   ]
  },
  {
   "cell_type": "code",
   "execution_count": null,
   "metadata": {},
   "outputs": [
    {
     "data": {
      "text/plain": [
       "['IAA_7.8125uM_MNGE_GCE_2_250206.txt',\n",
       " 'IAA_62.5uM_MNGE_GCE_2_250206.txt',\n",
       " 'IAA_31.25uM_MNGE_GCE_2_250206.txt',\n",
       " 'IAA_15.625uM_MNGE_GCE_2_250206.txt']"
      ]
     },
     "execution_count": null,
     "metadata": {},
     "output_type": "execute_result"
    }
   ],
   "source": [
    "iaa_mnge_root = \"../test_data/iaa_mnge\"\n",
    "os.listdir(iaa_mnge_root)"
   ]
  },
  {
   "cell_type": "code",
   "execution_count": null,
   "metadata": {},
   "outputs": [
    {
     "data": {
      "text/plain": [
       "{'memo': {'timestamp': '2025-02-06T17:35:06',\n",
       "  'technique': 'Differential Pulse Voltammetry',\n",
       "  'file': 'iaa_7.8125um_mnge_gce_2_250206.bin',\n",
       "  'instrument_model': 'CHI1040C'},\n",
       " 'parameters': {'Init E (V)': 0.2,\n",
       "  'Final E (V)': 1.0,\n",
       "  'Incr E (V)': 0.002,\n",
       "  'Amplitude (V)': 0.025,\n",
       "  'Pulse Width (sec)': 0.05,\n",
       "  'Sample Width (sec)': 0.0167,\n",
       "  'Pulse Period (sec)': 0.5,\n",
       "  'Quiet Time (sec)': 2.0,\n",
       "  'Sensitivity (A/V)': 1e-06},\n",
       " 'numeric_data': {'Potential/V': array([0.202, 0.204, 0.206, 0.208, 0.21 ]),\n",
       "  'Current/A': array([-6.596e-07, -6.557e-07, -6.549e-07, -6.547e-07, -6.545e-07])}}"
      ]
     },
     "execution_count": null,
     "metadata": {},
     "output_type": "execute_result"
    }
   ],
   "source": [
    "fpath = os.path.join(iaa_mnge_root)\n",
    "\n",
    "with open(os.path.join(fpath, \"IAA_7.8125uM_MNGE_GCE_2_250206.txt\")) as f:\n",
    "    contents = f.read()\n",
    "\n",
    "output_dict = parse_chi_file(contents)\n",
    "output_dict[\"numeric_data\"] = {k: v[:5] for k, v in output_dict[\"numeric_data\"].items()} # truncate the numeric data just for better display\n",
    "\n",
    "output_dict"
   ]
  },
  {
   "cell_type": "markdown",
   "metadata": {},
   "source": [
    "The objective is to create an interface where the user defines\n",
    "1. the files that need to be parsed within a dataset\n",
    "2. how we map each reading to an experimental condition\n",
    "\n",
    "The system automatically figures out which parser to use, based on the file extension (CHI is .txt and Palmsens is .csv).\n",
    "Then it\n",
    "1. reads in the file data according to the specified files\n",
    "2. maps each measurement to experimental condition according to the user map\n",
    "3. calculates all plots required to cover one variable experimental plotting "
   ]
  },
  {
   "cell_type": "markdown",
   "metadata": {},
   "source": [
    "Architecturally, we can have the user define a map that takes in a file path and maps it to a tuple, assuming there's only one measurement within the file. This provides all files as well as the mapping to experimental conditions at the same time\n",
    "**This means files with multiple measurements are not yet supported.**"
   ]
  },
  {
   "cell_type": "code",
   "execution_count": null,
   "metadata": {},
   "outputs": [],
   "source": [
    "fpath_to_experimental_vars = {\n",
    "    'IAA_7.8125uM_MNGE_GCE_2_250206.txt': 7.8125,\n",
    "    'IAA_62.5uM_MNGE_GCE_2_250206.txt': 62.5,\n",
    "    'IAA_31.25uM_MNGE_GCE_2_250206.txt': 31.25,\n",
    "    'IAA_15.625uM_MNGE_GCE_2_250206.txt': 15.625,\n",
    "}"
   ]
  },
  {
   "cell_type": "markdown",
   "metadata": {},
   "source": [
    "Now we just build the class that takes this in"
   ]
  },
  {
   "cell_type": "code",
   "execution_count": null,
   "metadata": {},
   "outputs": [],
   "source": [
    "#| export\n",
    "# helper function to load fpath to experimental variables while validating\n",
    "def _load_fpath_to_experimental_vars(fpath_to_experimental_vars):\n",
    "        # if any values are not within a tuple, wrap them in a one element tuple\n",
    "        fpath_mapping = {}\n",
    "\n",
    "        proper_expt_vars_len = None\n",
    "        for fpath, expt_vars in fpath_to_experimental_vars.items():\n",
    "            if not isinstance(expt_vars, tuple):\n",
    "                expt_vars = (expt_vars, ) # cast if necessary\n",
    "                expt_vars_len = 1\n",
    "            else:\n",
    "                expt_vars_len = len(expt_vars)\n",
    "            \n",
    "            # check that expt vars len is consistent with all others\n",
    "            if not proper_expt_vars_len:\n",
    "                proper_expt_vars_len = expt_vars_len # set the proper len if it hasn't been set yet\n",
    "            else:\n",
    "                if proper_expt_vars_len != expt_vars_len:\n",
    "                    raise ValueError(f\"The experimental variables for fpath {fpath!r} ({expt_vars!r}) has length ({len(expt_vars)!r}) whereas other data has length ({proper_expt_vars_len!r})\")\n",
    "            \n",
    "            fpath_mapping[fpath] = expt_vars\n",
    "\n",
    "        return fpath_mapping"
   ]
  },
  {
   "cell_type": "code",
   "execution_count": null,
   "metadata": {},
   "outputs": [],
   "source": [
    "class ExperimentPlotter:\n",
    "    def __init__(\n",
    "        self,\n",
    "        fpath_to_experimental_vars: dict[str, any or tuple] # mapping from fpath to experimental variables (if there's only one), or a tuple of experimental variables\n",
    "    ):\n",
    "        # save experimental vars\n",
    "        self.fpath_to_experimental_vars = _load_fpath_to_experimental_vars(fpath_to_experimental_vars)\n",
    "\n",
    "# normal function\n",
    "assert ExperimentPlotter(fpath_to_experimental_vars).fpath_to_experimental_vars == {'IAA_7.8125uM_MNGE_GCE_2_250206.txt': (7.8125,),\n",
    " 'IAA_62.5uM_MNGE_GCE_2_250206.txt': (62.5,),\n",
    " 'IAA_31.25uM_MNGE_GCE_2_250206.txt': (31.25,),\n",
    " 'IAA_15.625uM_MNGE_GCE_2_250206.txt': (15.625,)}\n",
    "\n",
    "# error when expt vars isn't a consistent shape\n",
    "test_fail(lambda: ExperimentPlotter({\"a.csv\": 1, \"b.csv\": 2, \"c.csv\": (1, 2)}))"
   ]
  },
  {
   "cell_type": "markdown",
   "metadata": {},
   "source": [
    "That covers user input. Now, we need to read in the file data. If it's a .txt file, we read and parse CHI, asserting that there's only one channel's-worth of information. IF it's a .csv file, we parse Palmsens, asserting that there's only one measurement in the file."
   ]
  },
  {
   "cell_type": "code",
   "execution_count": null,
   "metadata": {},
   "outputs": [],
   "source": [
    "#| export\n",
    "def chi_read(fpath):\n",
    "    with open(fpath, \"r\", encoding=\"utf-8\") as f:\n",
    "        return f.read()\n",
    "\n",
    "def chi_postprocessor(parser_output):\n",
    "    data = parser_output[\"numeric_data\"]\n",
    "    if \"Current/A\" not in data:\n",
    "        raise ValueError(f\"Current/A not detected as a data column. Instead, found {list(data.keys())!r}. Note that multichannel data is not supported yet.\")\n",
    "\n",
    "    return { \"potential\": data[\"Potential/V\"], \"current\": data[\"Current/A\"] }\n",
    "\n",
    "def palmsens_read(fpath):\n",
    "    with open(fpath, \"r\", encoding=\"utf-16\") as f:\n",
    "        return f.read()\n",
    "\n",
    "def palmsens_postprocessor(parser_output):\n",
    "    if len(parser_output) != 1:\n",
    "        raise ValueError(f\"We currently only support one measurement per file, but this file contains {len(parser_output)!r} measurements.\")\n",
    "    data = parser_output[0]\n",
    "    return { \"potential\": data[\"potential\"], \"current\": data[\"current\"] }\n",
    "\n",
    "fuse_processing = lambda read, parse, postprocess: (lambda fpath: postprocess(parse(read(fpath))))\n",
    "\n",
    "def process_file(\n",
    "    fpath # Potentiostat output file (.csv for Palmsens or .txt for CHI)\n",
    ") -> dict[str: np.ndarray]: # dictionary with `\"potential` (potential in V) and `\"current\"` (current in A)\n",
    "    if fpath.endswith(\".txt\"):\n",
    "        processor = fuse_processing(chi_read, parse_chi_file, chi_postprocessor)\n",
    "    elif fpath.endswith(\".csv\"):\n",
    "        processor = fuse_processing(palmsens_read, parse_palmsens_file, palmsens_postprocessor)\n",
    "\n",
    "    return processor(fpath)"
   ]
  },
  {
   "cell_type": "code",
   "execution_count": null,
   "metadata": {},
   "outputs": [],
   "source": [
    "# testing on CHI\n",
    "fpath = 'IAA_62.5uM_MNGE_GCE_2_250206.txt'\n",
    "chi_output = {k: v[:5] for k, v in process_file(os.path.join(iaa_mnge_root, fpath)).items()}\n",
    "test(chi_output, {'potential': np.array([0.202, 0.204, 0.206, 0.208, 0.21 ]), 'current': np.array([-6.733e-07, -6.715e-07, -6.721e-07, -6.728e-07, -6.733e-07])}, all_equal)\n",
    "\n",
    "# testing on Palmsens\n",
    "fpath = \"../test_data/iaa_m9_pH/250211_Blank_M9_pH5_GCE_DPV.csv\"\n",
    "ps_output = {k: v[:5] for k, v in process_file(fpath).items()}\n",
    "test(ps_output, {'potential': np.array([0.        , 0.01020757, 0.02041514, 0.03062271, 0.04083028]), 'current': np.array([2.1246306e-08, 2.0322310e-08, 1.9476714e-08, 1.9017516e-08,\n",
    "       1.8608716e-08])}, all_equal)"
   ]
  },
  {
   "cell_type": "markdown",
   "metadata": {},
   "source": [
    "So we've got the code that reads in the data. We've got the map. Now we need the code that generates the files we need according to experimental parameters"
   ]
  },
  {
   "cell_type": "markdown",
   "metadata": {},
   "source": [
    "For instance, if we had concentrations \\[0, 5, 10, 15], then it should be a single plot with all of them in order \\[(0, 5, 10, 15)]. If we had two variables, we might have experimental value tuples of \\[(0, 5), (5, 5), (10, 5), (0, 6), (5, 6), (10, 6), (0, 7), (5, 7), (10, 7)] where each tuple represents (concentration, pH). In other words, it'd be a grid of concentrations of \\[0, 5, 10] and pHs of \\[5, 6, 7]. Then it'd would be \n",
    "```python\n",
    "[\n",
    "    [(0, 5), (5, 5), (10, 5)], # change conc, pH=5\n",
    "    [(0, 6), (5, 6), (10, 6)], # change conc, pH=6\n",
    "    [(0, 7), (5, 7), (10, 7)], # change conc, pH=7\n",
    "    [(0, 5), (0, 6), (0, 7)], # conc=0, change pH\n",
    "    [(5, 5), (5, 6), (5, 7)], # conc=5, change pH\n",
    "    [(10, 5), (10, 6), (10, 7)] # conc=10, change pH\n",
    "]\n",
    "```\n",
    "\n",
    "In other words, for each unique variable value within a dimension, keep that dimension constant and then change the other one. To keep it simple, we're only supporting a max of two experimental variables. Three is uncommon and requires a more generalized algorithm."
   ]
  },
  {
   "cell_type": "markdown",
   "metadata": {},
   "source": [
    "So, we're making an algorithm that takes in all the tuples generated by mapping. if tuples are only len 1, then just sort them and that's the job done. If tuples are len 2, then go through the first dimension's unique values and group everything that way. Then do the analogous operation on the other dimension."
   ]
  },
  {
   "cell_type": "code",
   "execution_count": null,
   "metadata": {},
   "outputs": [
    {
     "data": {
      "text/plain": [
       "[[(1,), (3,), (5,), (7,), (8,)]]"
      ]
     },
     "execution_count": null,
     "metadata": {},
     "output_type": "execute_result"
    }
   ],
   "source": [
    "single_tuple_list = [(3,), (8,), (7,), (1,), (5,)]\n",
    "experimental_tuples = single_tuple_list\n",
    "\n",
    "# if it's len 1, then just sort by that single dimension. and there's only one plot\n",
    "plot_combos = [sorted(set(single_tuple_list), key=lambda x: x[0])] # the set part is to remove duplicates\n",
    "plot_combos"
   ]
  },
  {
   "cell_type": "code",
   "execution_count": null,
   "metadata": {},
   "outputs": [
    {
     "data": {
      "text/plain": [
       "[[0, 5], [0, 7], [0, 6]]"
      ]
     },
     "execution_count": null,
     "metadata": {},
     "output_type": "execute_result"
    }
   ],
   "source": [
    "double_tuple_list = [(0, 5), (5, 5), (10, 5), (10, 7), (5, 7), (0, 7), (0, 6), (10, 6), (5, 6)]\n",
    "experimental_tuples = np.array(double_tuple_list)\n",
    "\n",
    "# zero-th column is the one we're sorting on. this is just an example to get started. the example covers the first column only\n",
    "unique_col, other_col = 0, 1\n",
    "unique_var, var_indices = np.unique(experimental_tuples[:, 0], axis=0, return_inverse=True) # unique values for the first column\n",
    "\n",
    "current_plot_list = experimental_tuples[var_indices == 0].tolist()\n",
    "current_plot_list"
   ]
  },
  {
   "cell_type": "code",
   "execution_count": null,
   "metadata": {},
   "outputs": [
    {
     "data": {
      "text/plain": [
       "[(0, 5), (0, 6), (0, 7)]"
      ]
     },
     "execution_count": null,
     "metadata": {},
     "output_type": "execute_result"
    }
   ],
   "source": [
    "# now sort it and make it tuples\n",
    "sorted([tuple(x) for x in current_plot_list], key=lambda x: x[other_col]) # this is the output we want"
   ]
  },
  {
   "cell_type": "code",
   "execution_count": null,
   "metadata": {},
   "outputs": [
    {
     "data": {
      "text/plain": [
       "[[(0, 5), (0, 6), (0, 7)],\n",
       " [(5, 5), (5, 6), (5, 7)],\n",
       " [(10, 5), (10, 6), (10, 7)]]"
      ]
     },
     "execution_count": null,
     "metadata": {},
     "output_type": "execute_result"
    }
   ],
   "source": [
    "plot_list = []\n",
    "\n",
    "for i in range(len(unique_var)):\n",
    "    current_plot_list = experimental_tuples[var_indices == i].tolist()\n",
    "    current_plot_list = sorted([tuple(x) for x in current_plot_list], key=lambda x: x[other_col])\n",
    "    plot_list.append(current_plot_list)\n",
    "\n",
    "plot_list"
   ]
  },
  {
   "cell_type": "markdown",
   "metadata": {},
   "source": [
    "we've built up all plots in terms of their experimental variables for the first column (concentration), now we just switch the values for unique_col and other col to get the plots for the second column"
   ]
  },
  {
   "cell_type": "code",
   "execution_count": null,
   "metadata": {},
   "outputs": [
    {
     "data": {
      "text/plain": [
       "[[(0, 5), (5, 5), (10, 5)],\n",
       " [(0, 6), (5, 6), (10, 6)],\n",
       " [(0, 7), (5, 7), (10, 7)]]"
      ]
     },
     "execution_count": null,
     "metadata": {},
     "output_type": "execute_result"
    }
   ],
   "source": [
    "unique_col, other_col = 1, 0\n",
    "unique_var, var_indices = np.unique(experimental_tuples[:, unique_col], axis=0, return_inverse=True) # unique values for unique_col\n",
    "\n",
    "plot_list = []\n",
    "\n",
    "for i in range(len(unique_var)):\n",
    "    current_plot_list = experimental_tuples[var_indices == i].tolist()\n",
    "    current_plot_list = sorted([tuple(x) for x in current_plot_list], key=lambda x: x[other_col])\n",
    "    plot_list.append(current_plot_list)\n",
    "\n",
    "plot_list"
   ]
  },
  {
   "cell_type": "markdown",
   "metadata": {},
   "source": [
    "and that's correct for the second column. which means we can just put everything together and it should work."
   ]
  },
  {
   "cell_type": "code",
   "execution_count": null,
   "metadata": {},
   "outputs": [],
   "source": [
    "#| export\n",
    "def generate_plot_vars_len_two_helper(\n",
    "    var_tuples: list[tuple], # input tuples \n",
    "    unique_col: int, # the index of the column to keep constant. either 0 or 1\n",
    "):\n",
    "    if unique_col not in [0, 1]: raise ValueError(f\"Expected unique_col to be either 0 or 1, but received {unique_col!r}\")\n",
    "    other_col = 0 if unique_col == 1 else 1\n",
    "\n",
    "    if isinstance(var_tuples, list):\n",
    "        var_tuples = np.array(var_tuples)\n",
    "    \n",
    "    unique_var, var_indices = np.unique(var_tuples[:, unique_col], axis=0, return_inverse=True) # unique values for unique_col\n",
    "    plot_list = []\n",
    "\n",
    "    # generate the one variable change plot specs in terms of experimental varA\n",
    "    for i in range(len(unique_var)):\n",
    "        current_plot_list = var_tuples[var_indices == i].tolist()\n",
    "        current_plot_list = sorted([tuple(x) for x in current_plot_list], key=lambda x: x[other_col])\n",
    "\n",
    "        if len(current_plot_list) > 1: # don't bother adding plots that are a single measurement\n",
    "            plot_list.append(current_plot_list)\n",
    "\n",
    "    return plot_list\n",
    "\n",
    "def generate_plot_vars(\n",
    "    var_tuples: list[tuple] # list of experimental values tuples. assumed to all have the same length\n",
    "):\n",
    "    tuple_len = len(var_tuples[0])\n",
    "    if tuple_len == 0:\n",
    "        return []\n",
    "    if tuple_len == 1: # single var case\n",
    "        return [sorted(set(var_tuples), key=lambda x: x[0])]\n",
    "    elif tuple_len == 2: # double var case\n",
    "        first_column_list = generate_plot_vars_len_two_helper(var_tuples, 0)\n",
    "        second_column_list = generate_plot_vars_len_two_helper(var_tuples, 1)\n",
    "        return first_column_list + second_column_list\n",
    "    else:\n",
    "        raise ValueError(f\"Expected tuple length of either 1 or 2, but received tuple length {tuple_len!r}. Tuple length greater than 2 is not supported.\")"
   ]
  },
  {
   "cell_type": "code",
   "execution_count": null,
   "metadata": {},
   "outputs": [],
   "source": [
    "# single variable case\n",
    "assert generate_plot_vars([(3,), (8,), (7,), (1,), (5,)]) == [[(1,), (3,), (5,), (7,), (8,)]]\n",
    "\n",
    "# another similar case, floats\n",
    "assert generate_plot_vars([(1.1,), (1.5,), (3.1,), (0.2,), (1.7,)]) == [[(0.2,), (1.1,), (1.5,), (1.7,), (3.1,)]]\n",
    "\n",
    "# with a duplicate (expected behavior is to deduplicate)\n",
    "assert generate_plot_vars([(3,), (3,), (5,)]) == [[(3,), (5,)]]\n",
    "\n",
    "# double variable case\n",
    "assert generate_plot_vars([(0, 5), (5, 5), (10, 5), (10, 7), (5, 7), (0, 7), (0, 6), (10, 6), (5, 6)]) == [[(0, 5), (0, 6), (0, 7)],\n",
    " [(5, 5), (5, 6), (5, 7)],\n",
    " [(10, 5), (10, 6), (10, 7)],\n",
    " [(0, 5), (5, 5), (10, 5)],\n",
    " [(0, 6), (5, 6), (10, 6)],\n",
    " [(0, 7), (5, 7), (10, 7)]]\n",
    "\n",
    "# different case: conc=0 has an additional pH=8, pH=7 is missing its conc=5. in other words, removed (5, 7) and added (0, 8)\n",
    "assert generate_plot_vars([(0, 5), (5, 5), (10, 5), (10, 7), (0, 7), (0, 6), (10, 6), (5, 6), (0, 8)]) == [[(0, 5), (0, 6), (0, 7), (0, 8)],\n",
    " [(5, 5), (5, 6)],\n",
    " [(10, 5), (10, 6), (10, 7)],\n",
    " [(0, 5), (5, 5), (10, 5)],\n",
    " [(0, 6), (5, 6), (10, 6)],\n",
    " [(0, 7), (10, 7)]]"
   ]
  },
  {
   "cell_type": "markdown",
   "metadata": {},
   "source": [
    "fantastic. now that we've generated the plots according to vars, we just need to map vars back to files."
   ]
  },
  {
   "cell_type": "code",
   "execution_count": null,
   "metadata": {},
   "outputs": [
    {
     "data": {
      "text/plain": [
       "(array([[ 7.8125],\n",
       "        [15.625 ],\n",
       "        [31.25  ],\n",
       "        [62.5   ]]),\n",
       " array([0, 3, 2, 1]))"
      ]
     },
     "execution_count": null,
     "metadata": {},
     "output_type": "execute_result"
    }
   ],
   "source": [
    "fpath_to_vars = {'IAA_7.8125uM_MNGE_GCE_2_250206.txt': (7.8125,),\n",
    " 'IAA_62.5uM_MNGE_GCE_2_250206.txt': (62.5,),\n",
    " 'IAA_31.25uM_MNGE_GCE_2_250206.txt': (31.25,),\n",
    " 'IAA_15.625uM_MNGE_GCE_2_250206.txt': (15.625,)}\n",
    "\n",
    "# because one var can have multiple fpaths, reversal is a tad more complicated than reversing keys and values\n",
    "unique_vars, vars_inverse = np.unique(list(fpath_to_vars.values()), axis=0, return_inverse=True)\n",
    "unique_vars, vars_inverse"
   ]
  },
  {
   "cell_type": "code",
   "execution_count": null,
   "metadata": {},
   "outputs": [
    {
     "data": {
      "text/plain": [
       "{(7.8125,): ['IAA_7.8125uM_MNGE_GCE_2_250206.txt'],\n",
       " (15.625,): ['IAA_15.625uM_MNGE_GCE_2_250206.txt'],\n",
       " (31.25,): ['IAA_31.25uM_MNGE_GCE_2_250206.txt'],\n",
       " (62.5,): ['IAA_62.5uM_MNGE_GCE_2_250206.txt']}"
      ]
     },
     "execution_count": null,
     "metadata": {},
     "output_type": "execute_result"
    }
   ],
   "source": [
    "fpaths = np.array(list(fpath_to_vars.keys()))\n",
    "{tuple(var): fpaths[vars_inverse == i].tolist() for i, var in enumerate(unique_vars.tolist())}"
   ]
  },
  {
   "cell_type": "code",
   "execution_count": null,
   "metadata": {},
   "outputs": [],
   "source": [
    "#| export\n",
    "def inverse_fpath_to_vars(fpath_to_vars: dict[str, tuple or any]):\n",
    "    unique_vars, vars_inverse = np.unique(list(fpath_to_vars.values()), axis=0, return_inverse=True) # find unique values of vars, get inverse so we can reverse the relationship\n",
    "    fpaths = np.array(list(fpath_to_vars.keys())) # cast so we can slice numpy arrays\n",
    "    return {tuple(var): fpaths[vars_inverse == i].tolist() for i, var in enumerate(unique_vars.tolist())}"
   ]
  },
  {
   "cell_type": "code",
   "execution_count": null,
   "metadata": {},
   "outputs": [],
   "source": [
    "assert inverse_fpath_to_vars({'IAA_7.8125uM_MNGE_GCE_2_250206.txt': (7.8125,),\n",
    " 'IAA_62.5uM_MNGE_GCE_2_250206.txt': (62.5,),\n",
    " 'IAA_31.25uM_MNGE_GCE_2_250206.txt': (31.25,),\n",
    " 'IAA_15.625uM_MNGE_GCE_2_250206.txt': (15.625,)}) == {(7.8125,): ['IAA_7.8125uM_MNGE_GCE_2_250206.txt'],\n",
    " (15.625,): ['IAA_15.625uM_MNGE_GCE_2_250206.txt'],\n",
    " (31.25,): ['IAA_31.25uM_MNGE_GCE_2_250206.txt'],\n",
    " (62.5,): ['IAA_62.5uM_MNGE_GCE_2_250206.txt']}\n",
    "\n",
    "assert inverse_fpath_to_vars({\"5uM.txt\": (5,), \"5uM (1).txt\": (5,), \"10uM\": (10,)}) == {(5,): ['5uM.txt', '5uM (1).txt'], (10,): ['10uM']}"
   ]
  },
  {
   "cell_type": "markdown",
   "metadata": {},
   "source": [
    "And finally, we need to work out some specifics on plotting (coloring when there are multiple lines representing the same vars)"
   ]
  },
  {
   "cell_type": "code",
   "execution_count": null,
   "metadata": {},
   "outputs": [
    {
     "data": {
      "text/plain": [
       "{(7.0,): ['../test_data/iaa_mnge/IAA_7.8125uM_MNGE_GCE_2_250206.txt',\n",
       "  '../test_data/iaa_mnge/IAA_62.5uM_MNGE_GCE_2_250206.txt'],\n",
       " (15.625,): ['../test_data/iaa_mnge/IAA_15.625uM_MNGE_GCE_2_250206.txt'],\n",
       " (31.25,): ['../test_data/iaa_mnge/IAA_31.25uM_MNGE_GCE_2_250206.txt']}"
      ]
     },
     "execution_count": null,
     "metadata": {},
     "output_type": "execute_result"
    }
   ],
   "source": [
    "dev_fpaths_to_vars = {'IAA_7.8125uM_MNGE_GCE_2_250206.txt': (7,), # labeled 7\n",
    " 'IAA_62.5uM_MNGE_GCE_2_250206.txt': (7,), # also labeled 7, just to test when multiple fpaths map to a single var\n",
    " 'IAA_31.25uM_MNGE_GCE_2_250206.txt': (31.25,),\n",
    " 'IAA_15.625uM_MNGE_GCE_2_250206.txt': (15.625,)}\n",
    "dev_fpaths_to_vars = {os.path.join(iaa_mnge_root, k): v for k, v in dev_fpaths_to_vars.items()}\n",
    "\n",
    "vars_to_fpaths = inverse_fpath_to_vars(dev_fpaths_to_vars)\n",
    "vars_to_fpaths"
   ]
  },
  {
   "cell_type": "code",
   "execution_count": null,
   "metadata": {},
   "outputs": [
    {
     "data": {
      "text/plain": [
       "[[(7,), (15.625,), (31.25,)]]"
      ]
     },
     "execution_count": null,
     "metadata": {},
     "output_type": "execute_result"
    }
   ],
   "source": [
    "# now we generate the plots we need to make\n",
    "list_of_plot_vars = list(dev_fpaths_to_vars.values())\n",
    "to_plot_list = generate_plot_vars(list_of_plot_vars)\n",
    "to_plot_list"
   ]
  },
  {
   "cell_type": "markdown",
   "metadata": {},
   "source": [
    "and now we need a new function that takes in a plot specified by vars (that's an element of `to_plot_list`) as well as vars_to_fpaths and generates the plot"
   ]
  },
  {
   "cell_type": "code",
   "execution_count": null,
   "metadata": {},
   "outputs": [
    {
     "data": {
      "text/plain": [
       "['../test_data/iaa_mnge/IAA_7.8125uM_MNGE_GCE_2_250206.txt',\n",
       " '../test_data/iaa_mnge/IAA_62.5uM_MNGE_GCE_2_250206.txt']"
      ]
     },
     "execution_count": null,
     "metadata": {},
     "output_type": "execute_result"
    }
   ],
   "source": [
    "# let's do a single element for now\n",
    "to_plot = to_plot_list[0]\n",
    "current_var = to_plot[0]\n",
    "\n",
    "fpaths_to_plot = vars_to_fpaths[current_var]\n",
    "fpaths_to_plot"
   ]
  },
  {
   "cell_type": "code",
   "execution_count": null,
   "metadata": {},
   "outputs": [
    {
     "data": {
      "text/plain": [
       "[(7,), (15.625,), (31.25,)]"
      ]
     },
     "execution_count": null,
     "metadata": {},
     "output_type": "execute_result"
    }
   ],
   "source": [
    "# time to transform them into plot specs\n",
    "# first, so colors make sense, we actually need to assign colors to all tuples that will be plotted\n",
    "to_plot # map these to colors"
   ]
  },
  {
   "cell_type": "code",
   "execution_count": null,
   "metadata": {},
   "outputs": [
    {
     "data": {
      "text/plain": [
       "['tab:blue',\n",
       " 'tab:orange',\n",
       " 'tab:green',\n",
       " 'tab:red',\n",
       " 'tab:purple',\n",
       " 'tab:brown',\n",
       " 'tab:pink',\n",
       " 'tab:gray',\n",
       " 'tab:olive',\n",
       " 'tab:cyan']"
      ]
     },
     "execution_count": null,
     "metadata": {},
     "output_type": "execute_result"
    }
   ],
   "source": [
    "colors = list(mcd.TABLEAU_COLORS) # these are the colors for the traces\n",
    "colors"
   ]
  },
  {
   "cell_type": "code",
   "execution_count": null,
   "metadata": {},
   "outputs": [],
   "source": [
    "#| export\n",
    "def assign_colors(elements):\n",
    "    colors = list(mcd.TABLEAU_COLORS)\n",
    "    return {tup: colors[i % len(colors)] for i, tup in enumerate(elements)}"
   ]
  },
  {
   "cell_type": "code",
   "execution_count": null,
   "metadata": {},
   "outputs": [],
   "source": [
    "# normal case\n",
    "assert assign_colors(to_plot) == {(7,): 'tab:blue', (15.625,): 'tab:orange', (31.25,): 'tab:green'}\n",
    "\n",
    "# more elements than colors should result in cycling\n",
    "assert assign_colors(list(range(20))) == {0: 'tab:blue',\n",
    " 1: 'tab:orange',\n",
    " 2: 'tab:green',\n",
    " 3: 'tab:red',\n",
    " 4: 'tab:purple',\n",
    " 5: 'tab:brown',\n",
    " 6: 'tab:pink',\n",
    " 7: 'tab:gray',\n",
    " 8: 'tab:olive',\n",
    " 9: 'tab:cyan',\n",
    " 10: 'tab:blue',\n",
    " 11: 'tab:orange',\n",
    " 12: 'tab:green',\n",
    " 13: 'tab:red',\n",
    " 14: 'tab:purple',\n",
    " 15: 'tab:brown',\n",
    " 16: 'tab:pink',\n",
    " 17: 'tab:gray',\n",
    " 18: 'tab:olive',\n",
    " 19: 'tab:cyan'}"
   ]
  },
  {
   "cell_type": "markdown",
   "metadata": {},
   "source": [
    "now getting back on track"
   ]
  },
  {
   "cell_type": "code",
   "execution_count": null,
   "metadata": {},
   "outputs": [
    {
     "data": {
      "text/plain": [
       "[[array([0.202, 0.204, 0.206, 0.208, 0.21 ]),\n",
       "  array([-6.596e-07, -6.557e-07, -6.549e-07, -6.547e-07, -6.545e-07])],\n",
       " {'color': 'tab:blue', 'label': '7 uM'}]"
      ]
     },
     "execution_count": null,
     "metadata": {},
     "output_type": "execute_result"
    }
   ],
   "source": [
    "# load fpaths to vars\n",
    "dev_fpaths_to_vars = {'IAA_7.8125uM_MNGE_GCE_2_250206.txt': (7,), # labeled 7\n",
    " 'IAA_62.5uM_MNGE_GCE_2_250206.txt': (7,), # also labeled 7, just to test when multiple fpaths map to a single var\n",
    " 'IAA_31.25uM_MNGE_GCE_2_250206.txt': (31.25,),\n",
    " 'IAA_15.625uM_MNGE_GCE_2_250206.txt': (15.625,)}\n",
    "dev_fpaths_to_vars = {os.path.join(iaa_mnge_root, k): v for k, v in dev_fpaths_to_vars.items()}\n",
    "\n",
    "fpaths_to_data = {fpath: process_file(fpath) for fpath in dev_fpaths_to_vars} # read the data\n",
    "\n",
    "vars_to_fpaths = inverse_fpath_to_vars(dev_fpaths_to_vars) # generate inverse\n",
    "\n",
    "\n",
    "list_of_plot_vars = list(dev_fpaths_to_vars.values())\n",
    "to_plot_list = generate_plot_vars(list_of_plot_vars)\n",
    "\n",
    "to_plot = to_plot_list[0]\n",
    "colors = assign_colors(to_plot) # {(7,): 'tab:blue', (15.625,): 'tab:orange', (31.25,): 'tab:green'}\n",
    "\n",
    "current_var = to_plot[0]\n",
    "fpaths_to_plot = vars_to_fpaths[current_var] # ['../test_data/iaa_mnge/IAA_7.8125uM_MNGE_GCE_2_250206.txt', '../test_data/iaa_mnge/IAA_62.5uM_MNGE_GCE_2_250206.txt']\n",
    "fpath_to_plot = fpaths_to_plot[0] # just the first one\n",
    "\n",
    "# for a trace (a single line on the graph), i need the potential and current data\n",
    "current_data_dict = fpaths_to_data[fpath_to_plot]\n",
    "single_trace = [(current_data_dict[\"potential\"], current_data_dict[\"current\"]), {\"color\": colors[current_var], \"label\": f\"{current_var[0]} uM\"}]\n",
    "\n",
    "[[arr[:5] for arr in single_trace[0]], single_trace[1]] # show a subset of the data"
   ]
  },
  {
   "cell_type": "code",
   "execution_count": null,
   "metadata": {},
   "outputs": [
    {
     "data": {
      "image/png": "[encoded data removed]",
      "text/plain": [
       "<PIL.PngImagePlugin.PngImageFile image mode=RGBA size=625x482>"
      ]
     },
     "execution_count": null,
     "metadata": {},
     "output_type": "execute_result"
    }
   ],
   "source": [
    "mpl_wrapper([single_trace], xlabel=\"Potential (V)\", ylabel=\"Current (A)\")"
   ]
  },
  {
   "cell_type": "markdown",
   "metadata": {},
   "source": [
    "and then, in general,"
   ]
  },
  {
   "cell_type": "code",
   "execution_count": null,
   "metadata": {},
   "outputs": [
    {
     "data": {
      "text/plain": [
       "[[[array([0.202, 0.204, 0.206, 0.208, 0.21 ]),\n",
       "   array([-6.596e-07, -6.557e-07, -6.549e-07, -6.547e-07, -6.545e-07])],\n",
       "  {'color': 'tab:blue', 'label': '7 uM'}],\n",
       " [[array([0.202, 0.204, 0.206, 0.208, 0.21 ]),\n",
       "   array([-6.733e-07, -6.715e-07, -6.721e-07, -6.728e-07, -6.733e-07])],\n",
       "  {'color': 'tab:blue'}],\n",
       " [[array([0.202, 0.204, 0.206, 0.208, 0.21 ]),\n",
       "   array([-6.862e-07, -6.799e-07, -6.774e-07, -6.759e-07, -6.741e-07])],\n",
       "  {'color': 'tab:orange', 'label': '15.625 uM'}],\n",
       " [[array([0.202, 0.204, 0.206, 0.208, 0.21 ]),\n",
       "   array([-7.070e-07, -7.018e-07, -6.999e-07, -6.986e-07, -6.975e-07])],\n",
       "  {'color': 'tab:green', 'label': '31.25 uM'}]]"
      ]
     },
     "execution_count": null,
     "metadata": {},
     "output_type": "execute_result"
    }
   ],
   "source": [
    "# load fpaths to vars\n",
    "dev_fpaths_to_vars = {'IAA_7.8125uM_MNGE_GCE_2_250206.txt': (7,), # labeled 7\n",
    " 'IAA_62.5uM_MNGE_GCE_2_250206.txt': (7,), # also labeled 7, just to test when multiple fpaths map to a single var\n",
    " 'IAA_31.25uM_MNGE_GCE_2_250206.txt': (31.25,),\n",
    " 'IAA_15.625uM_MNGE_GCE_2_250206.txt': (15.625,)}\n",
    "dev_fpaths_to_vars = {os.path.join(iaa_mnge_root, k): v for k, v in dev_fpaths_to_vars.items()}\n",
    "\n",
    "fpaths_to_data = {fpath: process_file(fpath) for fpath in dev_fpaths_to_vars} # read the data\n",
    "\n",
    "vars_to_fpaths = inverse_fpath_to_vars(dev_fpaths_to_vars) # generate inverse\n",
    "\n",
    "\n",
    "list_of_plot_vars = list(dev_fpaths_to_vars.values())\n",
    "to_plot_list = generate_plot_vars(list_of_plot_vars)\n",
    "\n",
    "all_plot_specs = []\n",
    "\n",
    "for to_plot in to_plot_list: # to_plot is something like [(7,), (15.625,), (31.25,)], specifying the vars that need to be plotted\n",
    "    current_plot_spec = []\n",
    "    colors = assign_colors(to_plot) # colors for an individual plot\n",
    "\n",
    "    for current_var in to_plot: # current_var is something like (7,), representing the unique var that's being plotted \n",
    "        fpaths_to_plot = vars_to_fpaths[current_var] # all fpaths with that var combination, e.g. ['../test_data/iaa_mnge/IAA_7.8125uM_MNGE_GCE_2_250206.txt', '../test_data/iaa_mnge/IAA_62.5uM_MNGE_GCE_2_250206.txt']\n",
    "\n",
    "        for fpath_to_plot_i, fpath_to_plot in enumerate(fpaths_to_plot):\n",
    "            current_data_dict = fpaths_to_data[fpath_to_plot] # collect the data\n",
    "            kwargs = {\"color\": colors[current_var]}\n",
    "\n",
    "            if fpath_to_plot_i == 0: # only for the first one do we label, to avoid redundancy in the legend\n",
    "                kwargs |= {\"label\": f\"{current_var[0]} uM\"} # NOTE that this is custom code! we want the user to provide a labeling scheme\n",
    "                \n",
    "            single_trace = [(current_data_dict[\"potential\"], current_data_dict[\"current\"]), kwargs]\n",
    "            current_plot_spec.append(single_trace)\n",
    "    \n",
    "    all_plot_specs.append(current_plot_spec)\n",
    "\n",
    "[[[arr[:5] for arr in trace[0]], trace[1]] for trace in all_plot_specs[0]]"
   ]
  },
  {
   "cell_type": "code",
   "execution_count": null,
   "metadata": {},
   "outputs": [
    {
     "data": {
      "image/png": "[encoded data removed]",
      "text/plain": [
       "<PIL.PngImagePlugin.PngImageFile image mode=RGBA size=647x448>"
      ]
     },
     "execution_count": null,
     "metadata": {},
     "output_type": "execute_result"
    }
   ],
   "source": [
    "mpl_wrapper(all_plot_specs[0])"
   ]
  },
  {
   "cell_type": "markdown",
   "metadata": {},
   "source": [
    "Putting everying back into ExperimentPlotter,"
   ]
  },
  {
   "cell_type": "code",
   "execution_count": null,
   "metadata": {},
   "outputs": [],
   "source": [
    "#| export\n",
    "from typing import Callable\n",
    "\n",
    "class ExperimentPlotter:\n",
    "    def __init__(\n",
    "        self,\n",
    "        fpath_to_experimental_vars: dict[str, any or tuple], # mapping from fpath to experimental variables (if there's only one), or a tuple of experimental variables\n",
    "        label_fn: Callable[[tuple], str] or None=None # function maps an experimental var tuple to the label that will be displayed in a plot\n",
    "    ):\n",
    "        self.fpath_to_experimental_vars = _load_fpath_to_experimental_vars(fpath_to_experimental_vars) # save experimental vars\n",
    "        self.fpaths_to_data = {fpath: process_file(fpath) for fpath in self.fpath_to_experimental_vars} # grab the data\n",
    "        self.vars_to_fpaths = inverse_fpath_to_vars(self.fpath_to_experimental_vars) # generate inverse of fpath_to_experimental_vars\n",
    "\n",
    "        if not label_fn:\n",
    "            label_fn = lambda x: str(x)\n",
    "        self.label_fn = label_fn\n",
    "        \n",
    "        # generate plots in terms of vars\n",
    "        list_of_plot_vars = list(self.fpath_to_experimental_vars.values())\n",
    "        to_plot_list = generate_plot_vars(list_of_plot_vars)\n",
    "        all_plot_specs = []\n",
    "        \n",
    "        for to_plot in to_plot_list: # to_plot is something like [(7,), (15.625,), (31.25,)], specifying the vars that need to be plotted\n",
    "            current_plot_spec = []\n",
    "            colors = assign_colors(to_plot) # colors for an individual plot\n",
    "        \n",
    "            for current_var in to_plot: # current_var is something like (7,), representing the unique var that's being plotted \n",
    "                fpaths_to_plot = self.vars_to_fpaths[current_var] # all fpaths with that var combination, e.g. ['../test_data/iaa_mnge/IAA_7.8125uM_MNGE_GCE_2_250206.txt', '../test_data/iaa_mnge/IAA_62.5uM_MNGE_GCE_2_250206.txt']\n",
    "        \n",
    "                for fpath_to_plot_i, fpath_to_plot in enumerate(fpaths_to_plot):\n",
    "                    current_data_dict = self.fpaths_to_data[fpath_to_plot] # collect the data\n",
    "                    kwargs = {\"color\": colors[current_var]}\n",
    "        \n",
    "                    if fpath_to_plot_i == 0: # only for the first one do we label, to avoid redundancy in the legend\n",
    "                        kwargs |= {\"label\": label_fn(current_var)}\n",
    "                        \n",
    "                    single_trace = [(current_data_dict[\"potential\"], current_data_dict[\"current\"]), kwargs]\n",
    "                    current_plot_spec.append(single_trace)\n",
    "            \n",
    "            all_plot_specs.append(current_plot_spec)\n",
    "        self.plot_specs = all_plot_specs"
   ]
  },
  {
   "cell_type": "code",
   "execution_count": null,
   "metadata": {},
   "outputs": [],
   "source": [
    "# tests, copied from the first time\n",
    "\n",
    "# normal operation\n",
    "fpath_to_experimental_vars = {\n",
    "    'IAA_7.8125uM_MNGE_GCE_2_250206.txt': 7.8125,\n",
    "    'IAA_62.5uM_MNGE_GCE_2_250206.txt': 62.5,\n",
    "    'IAA_31.25uM_MNGE_GCE_2_250206.txt': 31.25,\n",
    "    'IAA_15.625uM_MNGE_GCE_2_250206.txt': 15.625,\n",
    "}\n",
    "fpath_to_experimental_vars = {os.path.join(iaa_mnge_root, k): v for k, v in fpath_to_experimental_vars.items()}\n",
    "\n",
    "assert ExperimentPlotter(fpath_to_experimental_vars).fpath_to_experimental_vars == {'../test_data/iaa_mnge/IAA_7.8125uM_MNGE_GCE_2_250206.txt': (7.8125,),\n",
    " '../test_data/iaa_mnge/IAA_62.5uM_MNGE_GCE_2_250206.txt': (62.5,),\n",
    " '../test_data/iaa_mnge/IAA_31.25uM_MNGE_GCE_2_250206.txt': (31.25,),\n",
    " '../test_data/iaa_mnge/IAA_15.625uM_MNGE_GCE_2_250206.txt': (15.625,)}\n",
    "\n",
    "# error when expt vars isn't a consistent shape\n",
    "test_fail(lambda: ExperimentPlotter(fpath_to_experimental_vars | {\"IAA_62.5uM_MNGE_GCE_2_250206.txt\": (62.5, 2)}).fpath_to_experimental_vars)\n",
    "\n",
    "# error with nonexistent files\n",
    "test_fail(lambda: ExperimentPlotter({\"a.csv\": 1, \"b.csv\": 2, \"c.csv\": (1, 2)}))"
   ]
  },
  {
   "cell_type": "code",
   "execution_count": null,
   "metadata": {},
   "outputs": [],
   "source": [
    "fpaths_to_vars = {'IAA_7.8125uM_MNGE_GCE_2_250206.txt': (7,), # labeled 7\n",
    " 'IAA_62.5uM_MNGE_GCE_2_250206.txt': (7,), # also labeled 7, just to test when multiple fpaths map to a single var\n",
    " 'IAA_31.25uM_MNGE_GCE_2_250206.txt': (31.25,),\n",
    " 'IAA_15.625uM_MNGE_GCE_2_250206.txt': (15.625,)}\n",
    "fpaths_to_vars = {os.path.join(iaa_mnge_root, k): v for k, v in fpaths_to_vars.items()}\n",
    "\n",
    "plot_specs = ExperimentPlotter(fpaths_to_vars, lambda x: f\"{x[0]} uM\").plot_specs\n",
    "test([[[[arr[:5] for arr in trace[0]], trace[1]] for trace in plot_spec] for plot_spec in plot_specs], [[[[np.array([0.202, 0.204, 0.206, 0.208, 0.21 ]),\n",
    "    np.array([-6.596e-07, -6.557e-07, -6.549e-07, -6.547e-07, -6.545e-07])],\n",
    "   {'color': 'tab:blue', 'label': '7 uM'}],\n",
    "  [[np.array([0.202, 0.204, 0.206, 0.208, 0.21 ]),\n",
    "    np.array([-6.733e-07, -6.715e-07, -6.721e-07, -6.728e-07, -6.733e-07])],\n",
    "   {'color': 'tab:blue'}],\n",
    "  [[np.array([0.202, 0.204, 0.206, 0.208, 0.21 ]),\n",
    "    np.array([-6.862e-07, -6.799e-07, -6.774e-07, -6.759e-07, -6.741e-07])],\n",
    "   {'color': 'tab:orange', 'label': '15.625 uM'}],\n",
    "  [[np.array([0.202, 0.204, 0.206, 0.208, 0.21 ]),\n",
    "    np.array([-7.070e-07, -7.018e-07, -6.999e-07, -6.986e-07, -6.975e-07])],\n",
    "   {'color': 'tab:green', 'label': '31.25 uM'}]]], all_equal)\n",
    "mpl_wrapper(plot_specs[0])"
   ]
  },
  {
   "cell_type": "code",
   "execution_count": null,
   "metadata": {},
   "outputs": [],
   "source": [
    "fpaths_to_vars = {'IAA_7.8125uM_MNGE_GCE_2_250206.txt': (7.8125,), # correctly labeled\n",
    " 'IAA_62.5uM_MNGE_GCE_2_250206.txt': (62.5,), # correctly labeled\n",
    " 'IAA_31.25uM_MNGE_GCE_2_250206.txt': (31.25,),\n",
    " 'IAA_15.625uM_MNGE_GCE_2_250206.txt': (15.625,)}\n",
    "fpaths_to_vars = {os.path.join(iaa_mnge_root, k): v for k, v in fpaths_to_vars.items()}\n",
    "\n",
    "plot_specs = ExperimentPlotter(fpaths_to_vars, lambda x: f\"{x[0]} uM IAA\").plot_specs\n",
    "test([[[[arr[:5] for arr in trace[0]], trace[1]] for trace in plot_spec] for plot_spec in plot_specs], [[[[np.array([0.202, 0.204, 0.206, 0.208, 0.21 ]),\n",
    "    np.array([-6.596e-07, -6.557e-07, -6.549e-07, -6.547e-07, -6.545e-07])],\n",
    "   {'color': 'tab:blue', 'label': '7.8125 uM IAA'}],\n",
    "  [[np.array([0.202, 0.204, 0.206, 0.208, 0.21 ]),\n",
    "    np.array([-6.862e-07, -6.799e-07, -6.774e-07, -6.759e-07, -6.741e-07])],\n",
    "   {'color': 'tab:orange', 'label': '15.625 uM IAA'}],\n",
    "  [[np.array([0.202, 0.204, 0.206, 0.208, 0.21 ]),\n",
    "    np.array([-7.070e-07, -7.018e-07, -6.999e-07, -6.986e-07, -6.975e-07])],\n",
    "   {'color': 'tab:green', 'label': '31.25 uM IAA'}],\n",
    "  [[np.array([0.202, 0.204, 0.206, 0.208, 0.21 ]),\n",
    "    np.array([-6.733e-07, -6.715e-07, -6.721e-07, -6.728e-07, -6.733e-07])],\n",
    "   {'color': 'tab:red', 'label': '62.5 uM IAA'}]]], all_equal)\n",
    "mpl_wrapper(plot_specs[0])"
   ]
  },
  {
   "cell_type": "markdown",
   "metadata": {},
   "source": [
    "now to test on palmsens"
   ]
  },
  {
   "cell_type": "code",
   "execution_count": null,
   "metadata": {},
   "outputs": [],
   "source": [
    "iaa_m9_pH_root = \"../test_data/iaa_m9_pH\"\n",
    "fpaths = [os.path.join(iaa_m9_pH_root, basepath) for basepath in os.listdir(iaa_m9_pH_root)]\n",
    "fpaths"
   ]
  },
  {
   "cell_type": "markdown",
   "metadata": {},
   "source": [
    "after getting gpt to assign tuple values,"
   ]
  },
  {
   "cell_type": "code",
   "execution_count": null,
   "metadata": {},
   "outputs": [],
   "source": [
    "fpaths_to_vars = {'../test_data/iaa_m9_pH/250211_IAA_31.25uM_inM9_pH7_GCE_DPV.csv': (31.25, 7), '../test_data/iaa_m9_pH/250211_Blank_M9_pH5_GCE_DPV.csv': (0, 5), '../test_data/iaa_m9_pH/250211_IAA_62.5uM_inM9_pH6_GCE_DPV.csv': (62.5, 6), '../test_data/iaa_m9_pH/250211_IAA_62.5uM_inM9_pH5_GCE_DPV.csv': (62.5, 5), '../test_data/iaa_m9_pH/250211_IAA_31.25uM_inM9_pH5_GCE_DPV.csv': (31.25, 5), '../test_data/iaa_m9_pH/250211_IAA_31.25uM_inM9_pH6_GCE_DPV.csv': (31.25, 6), '../test_data/iaa_m9_pH/250211_IAA_62.5uM_inM9_pH7_GCE_DPV.csv': (62.5, 7), '../test_data/iaa_m9_pH/250211_Blank_M9_pH7_GCE_DPV.csv': (0, 7), '../test_data/iaa_m9_pH/250211_Blank_M9_pH6_GCE_DPV.csv': (0, 6)}\n",
    "fpaths_to_vars"
   ]
  },
  {
   "cell_type": "code",
   "execution_count": null,
   "metadata": {},
   "outputs": [],
   "source": [
    "plot_specs = ExperimentPlotter(fpaths_to_vars, lambda tup: f\"IAA {tup[0]} uM, pH {int(tup[1])}\").plot_specs\n",
    "assert len(plot_specs) == 6\n",
    "len(plot_specs)\n",
    "\n",
    "mpl_wrapper(plot_specs[2], xlabel=\"Potential (V)\", ylabel=\"Current (A)\")"
   ]
  },
  {
   "cell_type": "markdown",
   "metadata": {},
   "source": [
    "Although the code is technically finished, there are a few things I don't like:\n",
    "1. We still need to pass xlabel and ylabel to mpl_wrapper. It feels like the plot specs should handle this, as it has the information of what we're plotting\n",
    "2. By having everything in the initialization, we don't allow customization of any steps. A minimal problem right now but for more customization on graph creation, we'll want to allow subclassing for customization. And then, generating the plots can be calculated on-demand by a method rather than at initialization. "
   ]
  },
  {
   "cell_type": "code",
   "execution_count": null,
   "metadata": {},
   "outputs": [],
   "source": [
    "#| hide\n",
    "import nbdev; nbdev.nbdev_export()"
   ]
  }
 ],
 "metadata": {
  "kernelspec": {
   "display_name": "python3",
   "language": "python",
   "name": "python3"
  }
 },
 "nbformat": 4,
 "nbformat_minor": 4
}
